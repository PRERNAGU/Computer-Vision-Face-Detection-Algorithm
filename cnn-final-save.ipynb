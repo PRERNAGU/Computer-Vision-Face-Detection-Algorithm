{
 "cells": [
  {
   "cell_type": "code",
   "execution_count": 1,
   "metadata": {},
   "outputs": [
    {
     "data": {
      "text/plain": [
       "array(['60', '78', '08', '10', '01', '16', '02', '04', '06', '17', '12',\n",
       "       '13', '14', '18', '19', '20', '21', '22', '23', '24', '26', '27',\n",
       "       '31', '33', '36', '38', '42', '44', '46', '48', '50', '52', '54',\n",
       "       '03', '09', '28', '29', '30', '32', '34', '40', '05', '56', '58',\n",
       "       '07', '11', '15', '25'], dtype=object)"
      ]
     },
     "execution_count": 1,
     "metadata": {},
     "output_type": "execute_result"
    }
   ],
   "source": [
    "#import the entire training data \n",
    "#consisting of faces of images, faces extracted out of video frames, faces out of group photos; and augmented images\n",
    "#entire training data stored as a list with ID; in the format [[ID; image path]] in list girlb\n",
    "#import the entire training data \n",
    "#consisting of faces of images, faces extracted out of video frames, faces out of group photos; and augmented images\n",
    "#entire training data stored as a list with ID; in the format [[ID; image path]] in list girlb\n",
    "import os, sys\n",
    "import pandas as pd\n",
    "\n",
    "file_path = (r'C:\\Users\\Prerna Prakash Gupta\\Desktop\\faces1\\jpeg1')\n",
    "girla=[]\n",
    "for root, dirs, files in os.walk(file_path):    \n",
    "    for name in files: \n",
    "        v=os.path.join(root, name)\n",
    "        girla.append([root[-2:], v])\n",
    "#print(len(s))\n",
    "girla\n",
    "i\n",
    "r=[]\n",
    "for i in range(len(girlb)):\n",
    "    r.append(girlb[i][0])\n",
    "r=pd.Series(r)  \n",
    "q=r.unique()\n",
    "g1=[]\n",
    "for i in girlb:\n",
    "    g1.append(i[1])\n",
    "len(g1)\n",
    "labels=[]\n",
    "for i in girlb:\n",
    "    labels.append(i[0])\n",
    "p=[]\n",
    "for i in girlb:\n",
    "    p.append(i[1])\n",
    "r=pd.Series(labels)\n",
    "d=pd.Series(r.unique())\n",
    "w=d.sort_values()\n",
    "w=list(w)\n"
   ]
  },
  {
   "cell_type": "code",
   "execution_count": 2,
   "metadata": {},
   "outputs": [
    {
     "name": "stderr",
     "output_type": "stream",
     "text": [
      "Using TensorFlow backend.\n"
     ]
    }
   ],
   "source": [
    "import os\n",
    "os.environ['CUDA_VISIBLE_DEVICES'] = '0'\n",
    "import cv2\n",
    "import numpy as np\n",
    "from keras import layers\n",
    "from keras.layers import Input, Add, Dense, Activation, ZeroPadding2D, BatchNormalization, Flatten, Conv2D, AveragePooling2D, MaxPooling2D\n",
    "from keras.models import Model, load_model\n",
    "from keras.initializers import glorot_uniform\n",
    "from keras.utils import plot_model\n",
    "from IPython.display import SVG\n",
    "from keras.utils.vis_utils import model_to_dot\n",
    "import keras.backend as K\n",
    "import tensorflow as tf"
   ]
  },
  {
   "cell_type": "code",
   "execution_count": 5,
   "metadata": {},
   "outputs": [],
   "source": [
    "from sklearn.model_selection import train_test_split \n",
    "#stratified split of data into 30% hold-out set and 70% training set  \n",
    "X_train, X_test, y_train, y_test = train_test_split( \n",
    "                        p, np.ravel(labels), stratify=labels,\n",
    "                test_size = 0.30, random_state = 101)\n"
   ]
  },
  {
   "cell_type": "code",
   "execution_count": 6,
   "metadata": {},
   "outputs": [],
   "source": [
    "#resize images to the size 64*64*3\n",
    "ROWS = 64\n",
    "COLS = 64\n",
    "CHANNELS = 3\n",
    "CLASSES = 48\n",
    "\n",
    "def read_image(file_path):\n",
    "    img = cv2.imread(file_path, cv2.IMREAD_COLOR)\n",
    "    return cv2.resize(img, (ROWS, COLS), interpolation=cv2.INTER_CUBIC)\n",
    "\n",
    "def prepare_data(images):\n",
    "    m = len(images)\n",
    "    X = np.zeros((m, ROWS, COLS, CHANNELS), dtype=np.uint8)\n",
    "    for i, image_file in enumerate(images):\n",
    "        X[i,:] = read_image(image_file)\n",
    "    return X"
   ]
  },
  {
   "cell_type": "code",
   "execution_count": 7,
   "metadata": {},
   "outputs": [],
   "source": [
    "#the training and test data are passed through resize image function\n",
    "train_set_x= prepare_data(X_train)\n",
    "test_set_x = prepare_data(X_test)\n",
    " "
   ]
  },
  {
   "cell_type": "code",
   "execution_count": 8,
   "metadata": {},
   "outputs": [],
   "source": [
    "#training & test data are rescaled\n",
    "train_set_x = train_set_x/255\n",
    "test_set_x  = test_set_x/255\n"
   ]
  },
  {
   "cell_type": "code",
   "execution_count": 9,
   "metadata": {},
   "outputs": [
    {
     "name": "stdout",
     "output_type": "stream",
     "text": [
      "['22' '50' '24' ... '50' '27' '14']\n",
      "[21 41 23 ... 41 26 13]\n",
      "[[0. 0. 0. ... 0. 0. 0.]\n",
      " [0. 0. 0. ... 0. 0. 0.]\n",
      " [0. 0. 0. ... 0. 0. 0.]\n",
      " ...\n",
      " [0. 0. 0. ... 0. 0. 0.]\n",
      " [0. 0. 0. ... 0. 0. 0.]\n",
      " [0. 0. 0. ... 0. 0. 0.]]\n"
     ]
    },
    {
     "data": {
      "text/plain": [
       "(3231, 48)"
      ]
     },
     "execution_count": 9,
     "metadata": {},
     "output_type": "execute_result"
    }
   ],
   "source": [
    "#one-hot-encoding of labels is done\n",
    "from numpy import array\n",
    "from numpy import argmax\n",
    "from sklearn.preprocessing import LabelEncoder\n",
    "from sklearn.preprocessing import OneHotEncoder\n",
    "# define example\n",
    "\n",
    "values = array(y_train)\n",
    "print(values)\n",
    "# integer encode\n",
    "label_encoder = LabelEncoder()\n",
    "integer_encoded = label_encoder.fit_transform(values)\n",
    "print(integer_encoded)\n",
    "onehot_encoder = OneHotEncoder(sparse=False)\n",
    "integer_encoded = integer_encoded.reshape(len(integer_encoded), 1)\n",
    "onehot_encoded = onehot_encoder.fit_transform(integer_encoded)\n",
    "print(onehot_encoded)\n",
    "onehot_encoded.shape\n",
    "y_train1=onehot_encoded\n",
    "onehot_encoded.shape\n",
    "\n"
   ]
  },
  {
   "cell_type": "code",
   "execution_count": 10,
   "metadata": {},
   "outputs": [
    {
     "name": "stdout",
     "output_type": "stream",
     "text": [
      "['10' '60' '42' ... '19' '60' '04']\n",
      "[ 9 46 37 ... 18 46  3]\n",
      "[[0. 0. 0. ... 0. 0. 0.]\n",
      " [0. 0. 0. ... 0. 1. 0.]\n",
      " [0. 0. 0. ... 0. 0. 0.]\n",
      " ...\n",
      " [0. 0. 0. ... 0. 0. 0.]\n",
      " [0. 0. 0. ... 0. 1. 0.]\n",
      " [0. 0. 0. ... 0. 0. 0.]]\n"
     ]
    },
    {
     "data": {
      "text/plain": [
       "(1385, 48)"
      ]
     },
     "execution_count": 10,
     "metadata": {},
     "output_type": "execute_result"
    }
   ],
   "source": [
    "from numpy import array\n",
    "from numpy import argmax\n",
    "from sklearn.preprocessing import LabelEncoder\n",
    "from sklearn.preprocessing import OneHotEncoder\n",
    "# define example\n",
    "\n",
    "values = array(y_test)\n",
    "print(values)\n",
    "# integer encode\n",
    "label_encoder = LabelEncoder()\n",
    "integer_encoded = label_encoder.fit_transform(values)\n",
    "print(integer_encoded)\n",
    "onehot_encoder = OneHotEncoder(sparse=False)\n",
    "integer_encoded = integer_encoded.reshape(len(integer_encoded), 1)\n",
    "onehot_encoded = onehot_encoder.fit_transform(integer_encoded)\n",
    "print(onehot_encoded)\n",
    "y_test1=onehot_encoded\n",
    "y_test1.shape\n",
    "    "
   ]
  },
  {
   "cell_type": "code",
   "execution_count": 11,
   "metadata": {},
   "outputs": [
    {
     "name": "stdout",
     "output_type": "stream",
     "text": [
      "number of training examples = 3231\n",
      "number of test examples = 1385\n",
      "X_train shape: (3231, 64, 64, 3)\n",
      "Y_train shape: (3231, 48)\n",
      "X_test shape: (1385, 64, 64, 3)\n",
      "Y_test shape: (1385, 48)\n"
     ]
    }
   ],
   "source": [
    "print (\"number of training examples =\", train_set_x.shape[0])\n",
    "print (\"number of test examples =\", test_set_x.shape[0])\n",
    "print (\"X_train shape:\", train_set_x.shape)\n",
    "print (\"Y_train shape:\", y_train1.shape)\n",
    "print (\"X_test shape:\",  test_set_x.shape)\n",
    "print (\"Y_test shape:\", y_test1.shape)"
   ]
  },
  {
   "cell_type": "code",
   "execution_count": 12,
   "metadata": {},
   "outputs": [],
   "source": [
    "ROWS = 64\n",
    "COLS = 64\n",
    "CHANNELS = 3\n",
    "CLASSES = 48"
   ]
  },
  {
   "cell_type": "code",
   "execution_count": 13,
   "metadata": {},
   "outputs": [
    {
     "name": "stdout",
     "output_type": "stream",
     "text": [
      "['10' '60' '42' ... '19' '60' '04']\n",
      "[ 9 46 37 ... 18 46  3]\n"
     ]
    }
   ],
   "source": [
    "from numpy import array\n",
    "from numpy import argmax\n",
    "from sklearn.preprocessing import LabelEncoder\n",
    "from sklearn.preprocessing import OneHotEncoder\n",
    "# one hot encodinf od labels y is done\n",
    "\n",
    "values = array(y_test)\n",
    "print(values)\n",
    "# integer encode\n",
    "label_encoder = LabelEncoder()\n",
    "integer_encoded = label_encoder.fit_transform(values)\n",
    "print(integer_encoded)\n",
    "onehot_encoder = OneHotEncoder(sparse=False)\n",
    "integer_encoded = integer_encoded.reshape(len(integer_encoded), 1)\n",
    "onehot_encoded = onehot_encoder.fit_transform(integer_encoded)\n",
    "#print(onehot_encoded)\n",
    "y_test1=onehot_encoded\n",
    "y_test1.shape\n",
    "\n",
    "q=pd.DataFrame(y_test1)\n"
   ]
  },
  {
   "cell_type": "code",
   "execution_count": 13,
   "metadata": {},
   "outputs": [],
   "source": [
    "import keras\n",
    "from keras.models import Sequential,Input,Model\n",
    "from keras.layers import Dense, Dropout, Flatten\n",
    "from keras.layers import Conv2D, MaxPooling2D\n",
    "from keras.layers.normalization import BatchNormalization\n",
    "from keras.layers.advanced_activations import LeakyReLU"
   ]
  },
  {
   "cell_type": "code",
   "execution_count": 14,
   "metadata": {},
   "outputs": [],
   "source": [
    "batch_size = 64\n",
    "epochs = 20\n",
    "num_classes = 48"
   ]
  },
  {
   "cell_type": "code",
   "execution_count": 21,
   "metadata": {},
   "outputs": [],
   "source": [
    "#relevant libraries are imported\n",
    "from keras.applications import ResNet50\n",
    "from tensorflow.python.keras.models import Sequential\n",
    "from tensorflow.python.keras.layers import Dense, Flatten, GlobalAveragePooling2D, BatchNormalization\n",
    "from keras.applications.resnet50 import preprocess_input\n",
    "from tensorflow.python.keras.preprocessing.image import ImageDataGenerator\n",
    "from tensorflow.python.keras.preprocessing.image import load_img, img_to_array\n",
    "import keras\n",
    "from keras.models import Sequential,Input,Model\n",
    "from keras.layers import Dense, Dropout, Flatten\n",
    "from keras.layers import Conv2D, MaxPooling2D\n",
    "from keras.layers.normalization import BatchNormalization\n",
    "from keras.layers.advanced_activations import LeakyReLU"
   ]
  },
  {
   "cell_type": "code",
   "execution_count": 22,
   "metadata": {},
   "outputs": [],
   "source": [
    "#model is trained\n",
    "model = Sequential()\n",
    "model.add(Conv2D(32, kernel_size=(3, 3),activation='linear',padding='same',input_shape=(64,64,3)))\n",
    "model.add(LeakyReLU(alpha=0.1))\n",
    "model.add(MaxPooling2D((2, 2),padding='same'))\n",
    "model.add(Dropout(0.25))\n",
    "model.add(Conv2D(64, (3, 3), activation='linear',padding='same'))\n",
    "model.add(LeakyReLU(alpha=0.1))\n",
    "model.add(MaxPooling2D(pool_size=(2, 2),padding='same'))\n",
    "model.add(Dropout(0.25))\n",
    "model.add(Conv2D(128, (3, 3), activation='linear',padding='same'))\n",
    "model.add(LeakyReLU(alpha=0.1))                  \n",
    "model.add(MaxPooling2D(pool_size=(2, 2),padding='same'))\n",
    "model.add(Dropout(0.4))\n",
    "model.add(Flatten())\n",
    "model.add(Dense(128, activation='linear'))\n",
    "model.add(LeakyReLU(alpha=0.1))           \n",
    "model.add(Dropout(0.3))\n",
    "model.add(Dense(num_classes, activation='softmax'))"
   ]
  },
  {
   "cell_type": "code",
   "execution_count": 23,
   "metadata": {},
   "outputs": [],
   "source": [
    "#model is complied\n",
    "model.compile(loss=keras.losses.categorical_crossentropy, optimizer=keras.optimizers.Adam(),metrics=['accuracy'])\n"
   ]
  },
  {
   "cell_type": "code",
   "execution_count": 24,
   "metadata": {},
   "outputs": [
    {
     "name": "stdout",
     "output_type": "stream",
     "text": [
      "Model: \"sequential_1\"\n",
      "_________________________________________________________________\n",
      "Layer (type)                 Output Shape              Param #   \n",
      "=================================================================\n",
      "conv2d_2 (Conv2D)            (None, 64, 64, 32)        896       \n",
      "_________________________________________________________________\n",
      "leaky_re_lu_1 (LeakyReLU)    (None, 64, 64, 32)        0         \n",
      "_________________________________________________________________\n",
      "max_pooling2d_1 (MaxPooling2 (None, 32, 32, 32)        0         \n",
      "_________________________________________________________________\n",
      "dropout_1 (Dropout)          (None, 32, 32, 32)        0         \n",
      "_________________________________________________________________\n",
      "conv2d_3 (Conv2D)            (None, 32, 32, 64)        18496     \n",
      "_________________________________________________________________\n",
      "leaky_re_lu_2 (LeakyReLU)    (None, 32, 32, 64)        0         \n",
      "_________________________________________________________________\n",
      "max_pooling2d_2 (MaxPooling2 (None, 16, 16, 64)        0         \n",
      "_________________________________________________________________\n",
      "dropout_2 (Dropout)          (None, 16, 16, 64)        0         \n",
      "_________________________________________________________________\n",
      "conv2d_4 (Conv2D)            (None, 16, 16, 128)       73856     \n",
      "_________________________________________________________________\n",
      "leaky_re_lu_3 (LeakyReLU)    (None, 16, 16, 128)       0         \n",
      "_________________________________________________________________\n",
      "max_pooling2d_3 (MaxPooling2 (None, 8, 8, 128)         0         \n",
      "_________________________________________________________________\n",
      "dropout_3 (Dropout)          (None, 8, 8, 128)         0         \n",
      "_________________________________________________________________\n",
      "flatten_1 (Flatten)          (None, 8192)              0         \n",
      "_________________________________________________________________\n",
      "dense_1 (Dense)              (None, 128)               1048704   \n",
      "_________________________________________________________________\n",
      "leaky_re_lu_4 (LeakyReLU)    (None, 128)               0         \n",
      "_________________________________________________________________\n",
      "dropout_4 (Dropout)          (None, 128)               0         \n",
      "_________________________________________________________________\n",
      "dense_2 (Dense)              (None, 48)                6192      \n",
      "=================================================================\n",
      "Total params: 1,148,144\n",
      "Trainable params: 1,148,144\n",
      "Non-trainable params: 0\n",
      "_________________________________________________________________\n"
     ]
    }
   ],
   "source": [
    "#model summary\n",
    "model.summary()"
   ]
  },
  {
   "cell_type": "code",
   "execution_count": 25,
   "metadata": {},
   "outputs": [
    {
     "data": {
      "text/plain": [
       "((2584, 64, 64, 3), (647, 64, 64, 3), (2584, 48), (647, 48))"
      ]
     },
     "execution_count": 25,
     "metadata": {},
     "output_type": "execute_result"
    }
   ],
   "source": [
    "#the tarining data is starified split to include 20% validation set\n",
    "from sklearn.model_selection import train_test_split\n",
    "train_X,valid_X,train_label,valid_label = train_test_split(train_set_x, y_train1, test_size=0.2, random_state=13)\n",
    "train_X.shape,valid_X.shape,train_label.shape,valid_label.shape"
   ]
  },
  {
   "cell_type": "code",
   "execution_count": 26,
   "metadata": {},
   "outputs": [
    {
     "name": "stdout",
     "output_type": "stream",
     "text": [
      "Train on 2584 samples, validate on 647 samples\n",
      "Epoch 1/20\n",
      "2584/2584 [==============================] - 31s 12ms/step - loss: 3.6856 - accuracy: 0.0704 - val_loss: 3.4109 - val_accuracy: 0.1901\n",
      "Epoch 2/20\n",
      "2584/2584 [==============================] - 35s 13ms/step - loss: 2.4970 - accuracy: 0.3487 - val_loss: 1.7414 - val_accuracy: 0.5580\n",
      "Epoch 3/20\n",
      "2584/2584 [==============================] - 36s 14ms/step - loss: 1.2515 - accuracy: 0.6900 - val_loss: 0.6924 - val_accuracy: 0.8470\n",
      "Epoch 4/20\n",
      "2584/2584 [==============================] - 33s 13ms/step - loss: 0.6254 - accuracy: 0.8382 - val_loss: 0.4248 - val_accuracy: 0.8918\n",
      "Epoch 5/20\n",
      "2584/2584 [==============================] - 36s 14ms/step - loss: 0.3903 - accuracy: 0.8955 - val_loss: 0.2781 - val_accuracy: 0.9304\n",
      "Epoch 6/20\n",
      "2584/2584 [==============================] - 37s 14ms/step - loss: 0.2502 - accuracy: 0.9319 - val_loss: 0.2051 - val_accuracy: 0.9428\n",
      "Epoch 7/20\n",
      "2584/2584 [==============================] - 34s 13ms/step - loss: 0.1656 - accuracy: 0.9528 - val_loss: 0.1645 - val_accuracy: 0.9521\n",
      "Epoch 8/20\n",
      "2584/2584 [==============================] - 32s 12ms/step - loss: 0.1742 - accuracy: 0.9501 - val_loss: 0.1791 - val_accuracy: 0.9490\n",
      "Epoch 9/20\n",
      "2584/2584 [==============================] - 33s 13ms/step - loss: 0.1150 - accuracy: 0.9617 - val_loss: 0.1778 - val_accuracy: 0.9490\n",
      "Epoch 10/20\n",
      "2584/2584 [==============================] - 33s 13ms/step - loss: 0.0809 - accuracy: 0.9772 - val_loss: 0.1342 - val_accuracy: 0.9598\n",
      "Epoch 11/20\n",
      "2584/2584 [==============================] - 35s 14ms/step - loss: 0.0688 - accuracy: 0.9733 - val_loss: 0.1415 - val_accuracy: 0.9614\n",
      "Epoch 12/20\n",
      "2584/2584 [==============================] - 33s 13ms/step - loss: 0.0529 - accuracy: 0.9830 - val_loss: 0.0961 - val_accuracy: 0.9815\n",
      "Epoch 13/20\n",
      "2584/2584 [==============================] - 34s 13ms/step - loss: 0.0625 - accuracy: 0.9791 - val_loss: 0.1100 - val_accuracy: 0.9691\n",
      "Epoch 14/20\n",
      "2584/2584 [==============================] - 34s 13ms/step - loss: 0.0624 - accuracy: 0.9791 - val_loss: 0.1966 - val_accuracy: 0.9567\n",
      "Epoch 15/20\n",
      "2584/2584 [==============================] - 41s 16ms/step - loss: 0.0394 - accuracy: 0.9880 - val_loss: 0.0943 - val_accuracy: 0.9784\n",
      "Epoch 16/20\n",
      "2584/2584 [==============================] - 34s 13ms/step - loss: 0.0347 - accuracy: 0.9903 - val_loss: 0.1407 - val_accuracy: 0.9660\n",
      "Epoch 17/20\n",
      "2584/2584 [==============================] - 33s 13ms/step - loss: 0.0426 - accuracy: 0.9865 - val_loss: 0.1099 - val_accuracy: 0.9737\n",
      "Epoch 18/20\n",
      "2584/2584 [==============================] - 36s 14ms/step - loss: 0.0300 - accuracy: 0.9903 - val_loss: 0.1420 - val_accuracy: 0.9691\n",
      "Epoch 19/20\n",
      "2584/2584 [==============================] - 34s 13ms/step - loss: 0.0324 - accuracy: 0.9892 - val_loss: 0.1070 - val_accuracy: 0.9706\n",
      "Epoch 20/20\n",
      "2584/2584 [==============================] - 32s 12ms/step - loss: 0.0290 - accuracy: 0.9923 - val_loss: 0.1143 - val_accuracy: 0.9768\n"
     ]
    }
   ],
   "source": [
    "#model is fit on tarining data and validation scores for every epoch are recorded\n",
    "model_train = model.fit(train_X, train_label, batch_size=batch_size,epochs=epochs,verbose=1,validation_data=(valid_X, valid_label))"
   ]
  },
  {
   "cell_type": "code",
   "execution_count": 28,
   "metadata": {},
   "outputs": [
    {
     "name": "stdout",
     "output_type": "stream",
     "text": [
      "Test loss: 0.1492001565489313\n",
      "Test accuracy: 0.9667869806289673\n"
     ]
    }
   ],
   "source": [
    "#test loss and accuracy on 30% hold-out data are recorded\n",
    "test_eval = model.evaluate(test_set_x, y_test1, verbose=0)\n",
    "print('Test loss:', test_eval[0])\n",
    "print('Test accuracy:', test_eval[1])"
   ]
  },
  {
   "cell_type": "code",
   "execution_count": 35,
   "metadata": {},
   "outputs": [
    {
     "data": {
      "image/png": "[encoded data removed]",
      "text/plain": [
       "<Figure size 432x288 with 1 Axes>"
      ]
     },
     "metadata": {
      "needs_background": "light"
     },
     "output_type": "display_data"
    },
    {
     "data": {
      "image/png": "[encoded data removed]",
      "text/plain": [
       "<Figure size 432x288 with 1 Axes>"
      ]
     },
     "metadata": {
      "needs_background": "light"
     },
     "output_type": "display_data"
    }
   ],
   "source": [
    "import matplotlib. pyplot as plt\n",
    "accuracy = model_train.history['accuracy']\n",
    "val_accuracy = model_train.history['val_accuracy']\n",
    "loss = model_train.history['loss']\n",
    "val_loss = model_train.history['val_loss']\n",
    "epochs = range(len(accuracy))\n",
    "plt.plot(epochs, accuracy, 'bo', label='Training accuracy')\n",
    "plt.plot(epochs, val_accuracy, 'b', label='Validation accuracy')\n",
    "plt.title('Training and validation accuracy')\n",
    "plt.legend()\n",
    "plt.figure()\n",
    "plt.plot(epochs, loss, 'bo', label='Training loss')\n",
    "plt.plot(epochs, val_loss, 'b', label='Validation loss')\n",
    "plt.title('Training and validation loss')\n",
    "plt.legend()\n",
    "plt.show()"
   ]
  },
  {
   "cell_type": "code",
   "execution_count": 36,
   "metadata": {},
   "outputs": [],
   "source": [
    "#predicted classes output a probablity of every class\n",
    "predicted_classes = model.predict(test_set_x)"
   ]
  },
  {
   "cell_type": "code",
   "execution_count": 37,
   "metadata": {},
   "outputs": [
    {
     "data": {
      "text/plain": [
       "array([[1.15424371e-20, 7.29417881e-21, 2.57941671e-11, ...,\n",
       "        1.40767165e-17, 5.05554231e-19, 3.79214975e-12],\n",
       "       [7.26082139e-10, 1.10565243e-14, 7.46471332e-15, ...,\n",
       "        1.70569603e-08, 9.99990344e-01, 1.44147037e-07],\n",
       "       [4.26687630e-10, 4.81402651e-09, 8.80055584e-09, ...,\n",
       "        1.58840994e-08, 2.06781311e-11, 1.49266682e-10],\n",
       "       ...,\n",
       "       [1.89073441e-14, 9.27468921e-19, 8.29448990e-18, ...,\n",
       "        1.20820602e-11, 1.59547098e-11, 1.05626556e-10],\n",
       "       [5.18399152e-17, 4.25227523e-19, 3.90303597e-16, ...,\n",
       "        1.32162636e-09, 9.99999881e-01, 1.10491033e-18],\n",
       "       [4.85682848e-12, 7.74413689e-09, 2.25971363e-07, ...,\n",
       "        2.18743274e-12, 3.28773980e-10, 7.12997217e-10]], dtype=float32)"
      ]
     },
     "execution_count": 37,
     "metadata": {},
     "output_type": "execute_result"
    }
   ],
   "source": [
    "predicted_classes "
   ]
  },
  {
   "cell_type": "code",
   "execution_count": 38,
   "metadata": {},
   "outputs": [],
   "source": [
    "#transform predicted prob to class labels\n",
    "predicted_classes1 = onehot_encoder.inverse_transform(predicted_classes)\n",
    "y_test12=onehot_encoder.inverse_transform(y_test1)"
   ]
  },
  {
   "cell_type": "code",
   "execution_count": 39,
   "metadata": {},
   "outputs": [
    {
     "data": {
      "text/plain": [
       "(array([  19,   31,   35,   40,   76,   80,  177,  210,  291,  353,  375,\n",
       "         406,  416,  441,  451,  478,  528,  550,  556,  626,  676,  683,\n",
       "         718,  773,  869,  880,  887,  901,  902,  917,  956,  957,  963,\n",
       "         972,  979,  984, 1054, 1072, 1134, 1144, 1167, 1271, 1275, 1340,\n",
       "        1352, 1378], dtype=int64),\n",
       " array([0, 0, 0, 0, 0, 0, 0, 0, 0, 0, 0, 0, 0, 0, 0, 0, 0, 0, 0, 0, 0, 0,\n",
       "        0, 0, 0, 0, 0, 0, 0, 0, 0, 0, 0, 0, 0, 0, 0, 0, 0, 0, 0, 0, 0, 0,\n",
       "        0, 0], dtype=int64))"
      ]
     },
     "execution_count": 39,
     "metadata": {},
     "output_type": "execute_result"
    }
   ],
   "source": [
    "#index numbers where predictions on test data were wrong()\n",
    "np.where(predicted_classes1 !=y_test12)"
   ]
  },
  {
   "cell_type": "code",
   "execution_count": 40,
   "metadata": {},
   "outputs": [
    {
     "data": {
      "text/plain": [
       "Text(0.5, 1.0, 'missclassified')"
      ]
     },
     "execution_count": 40,
     "metadata": {},
     "output_type": "execute_result"
    },
    {
     "data": {
      "image/png": "[encoded data removed]",
      "text/plain": [
       "<Figure size 432x288 with 1 Axes>"
      ]
     },
     "metadata": {
      "needs_background": "light"
     },
     "output_type": "display_data"
    }
   ],
   "source": [
    "#checking from test data, which images were missclassified\n",
    "plt.title('missclassified')\n",
    "pic=cv2.imread(X_test[19])\n",
    "cv2.destroyAllWindows()\n",
    "pic = cv2.cvtColor(pic, cv2.COLOR_BGR2RGB)\n",
    "plt.imshow(pic)\n",
    "plt.title('missclassified')\n"
   ]
  },
  {
   "cell_type": "code",
   "execution_count": 41,
   "metadata": {
    "scrolled": true
   },
   "outputs": [
    {
     "data": {
      "text/plain": [
       "<matplotlib.image.AxesImage at 0x1fa9466cfc8>"
      ]
     },
     "execution_count": 41,
     "metadata": {},
     "output_type": "execute_result"
    },
    {
     "data": {
      "image/png": "[encoded data removed]",
      "text/plain": [
       "<Figure size 432x288 with 1 Axes>"
      ]
     },
     "metadata": {
      "needs_background": "light"
     },
     "output_type": "display_data"
    }
   ],
   "source": [
    "pic=cv2.imread(X_test[31])\n",
    "cv2.destroyAllWindows()\n",
    "pic = cv2.cvtColor(pic, cv2.COLOR_BGR2RGB)\n",
    "plt.imshow(pic)"
   ]
  },
  {
   "cell_type": "code",
   "execution_count": 42,
   "metadata": {},
   "outputs": [
    {
     "name": "stdout",
     "output_type": "stream",
     "text": [
      "              precision    recall  f1-score   support\n",
      "\n",
      "           0       1.00      0.97      0.98        33\n",
      "           1       1.00      1.00      1.00        29\n",
      "           2       1.00      0.91      0.95        33\n",
      "           3       0.98      0.98      0.98        44\n",
      "           4       1.00      0.75      0.86         4\n",
      "           5       1.00      0.95      0.97        39\n",
      "           6       0.80      0.80      0.80         5\n",
      "           7       1.00      0.96      0.98        47\n",
      "           8       0.88      1.00      0.93        28\n",
      "           9       0.96      1.00      0.98        48\n",
      "          10       0.90      1.00      0.95         9\n",
      "          11       1.00      0.98      0.99        47\n",
      "          12       0.95      0.91      0.93        43\n",
      "          13       0.92      1.00      0.96        45\n",
      "          14       1.00      1.00      1.00         3\n",
      "          15       1.00      0.87      0.93        15\n",
      "          16       0.97      1.00      0.99        36\n",
      "          17       0.98      1.00      0.99        41\n",
      "          18       0.86      0.95      0.90        19\n",
      "          19       0.95      1.00      0.97        37\n",
      "          20       0.96      1.00      0.98        48\n",
      "          21       1.00      1.00      1.00        47\n",
      "          22       0.94      1.00      0.97        17\n",
      "          23       1.00      0.90      0.95        31\n",
      "          24       1.00      1.00      1.00         2\n",
      "          25       0.98      1.00      0.99        49\n",
      "          26       0.91      0.98      0.94        51\n",
      "          27       1.00      0.83      0.91         6\n",
      "          28       0.92      1.00      0.96        11\n",
      "          29       1.00      0.80      0.89         5\n",
      "          30       0.94      0.94      0.94        51\n",
      "          31       0.95      1.00      0.98        21\n",
      "          32       1.00      0.98      0.99        47\n",
      "          33       1.00      1.00      1.00         2\n",
      "          34       0.96      0.92      0.94        24\n",
      "          35       1.00      0.73      0.84        11\n",
      "          36       0.90      0.90      0.90        10\n",
      "          37       0.98      1.00      0.99        50\n",
      "          38       1.00      0.95      0.98        22\n",
      "          39       0.98      1.00      0.99        40\n",
      "          40       0.98      1.00      0.99        47\n",
      "          41       0.95      0.95      0.95        44\n",
      "          42       1.00      0.92      0.96        38\n",
      "          43       1.00      0.80      0.89        15\n",
      "          44       0.80      0.80      0.80         5\n",
      "          45       1.00      1.00      1.00         5\n",
      "          46       0.98      0.98      0.98        47\n",
      "          47       0.97      1.00      0.99        34\n",
      "\n",
      "    accuracy                           0.97      1385\n",
      "   macro avg       0.96      0.95      0.95      1385\n",
      "weighted avg       0.97      0.97      0.97      1385\n",
      "\n"
     ]
    }
   ],
   "source": [
    "from sklearn.metrics import classification_report\n",
    "print(classification_report(y_test12, predicted_classes1))"
   ]
  },
  {
   "cell_type": "code",
   "execution_count": 44,
   "metadata": {},
   "outputs": [
    {
     "name": "stdout",
     "output_type": "stream",
     "text": [
      "Saved model to disk\n"
     ]
    }
   ],
   "source": [
    "os.chdir(r'C:\\Users\\Prerna Prakash Gupta\\Desktop\\savedmodel')\n",
    "from keras.models import Sequential\n",
    "from keras.layers import Dense\n",
    "from keras.models import model_from_json\n",
    "import numpy\n",
    "import os\n",
    "model.save(\"modelCNN1.h5\")\n",
    "print(\"Saved model to disk\")"
   ]
  },
  {
   "cell_type": "code",
   "execution_count": 17,
   "metadata": {},
   "outputs": [
    {
     "name": "stdout",
     "output_type": "stream",
     "text": [
      "[35.35115477358821, 0.023826714605093002]\n"
     ]
    }
   ],
   "source": [
    "# load and evaluate a saved model\n",
    "from numpy import loadtxt\n",
    "from keras.models import load_model\n",
    "\n",
    "# load model\n",
    "model = load_model('modelCNN1.h5')\n",
    "\n",
    "# evaluate the model\n",
    "\n",
    "score = model.evaluate(test_set_x, y_test1, verbose=0)\n",
    "print(score)"
   ]
  },
  {
   "cell_type": "code",
   "execution_count": 46,
   "metadata": {},
   "outputs": [],
   "source": [
    "predicted_classes12 = onehot_encoder.inverse_transform(predicted_classes)"
   ]
  },
  {
   "cell_type": "code",
   "execution_count": 407,
   "metadata": {},
   "outputs": [],
   "source": [
    "s=onehot_encoder.inverse_transform(y_test1)"
   ]
  },
  {
   "cell_type": "code",
   "execution_count": 410,
   "metadata": {},
   "outputs": [
    {
     "name": "stdout",
     "output_type": "stream",
     "text": [
      "              precision    recall  f1-score   support\n",
      "\n",
      "           0       1.00      1.00      1.00        33\n",
      "           1       1.00      1.00      1.00        29\n",
      "           2       0.94      0.91      0.92        33\n",
      "           3       0.93      0.95      0.94        44\n",
      "           4       1.00      0.75      0.86         4\n",
      "           5       0.90      0.95      0.92        39\n",
      "           6       0.67      0.40      0.50         5\n",
      "           7       0.92      0.94      0.93        47\n",
      "           8       0.84      0.96      0.90        28\n",
      "           9       1.00      0.98      0.99        48\n",
      "          10       0.90      1.00      0.95         9\n",
      "          11       0.98      1.00      0.99        47\n",
      "          12       0.95      0.98      0.97        43\n",
      "          13       0.91      0.93      0.92        45\n",
      "          14       1.00      1.00      1.00         3\n",
      "          15       0.93      0.93      0.93        15\n",
      "          16       1.00      0.97      0.99        36\n",
      "          17       0.98      0.98      0.98        41\n",
      "          18       0.95      0.95      0.95        20\n",
      "          19       0.91      0.89      0.90        36\n",
      "          20       0.96      0.94      0.95        48\n",
      "          21       0.96      1.00      0.98        47\n",
      "          22       1.00      1.00      1.00        17\n",
      "          23       0.91      0.94      0.92        31\n",
      "          24       1.00      1.00      1.00         2\n",
      "          25       1.00      1.00      1.00        49\n",
      "          26       1.00      0.98      0.99        51\n",
      "          27       1.00      0.67      0.80         6\n",
      "          28       0.92      1.00      0.96        11\n",
      "          29       1.00      0.60      0.75         5\n",
      "          30       0.94      0.96      0.95        51\n",
      "          31       0.95      1.00      0.98        21\n",
      "          32       1.00      0.98      0.99        47\n",
      "          33       1.00      1.00      1.00         2\n",
      "          34       0.92      0.92      0.92        24\n",
      "          35       1.00      0.91      0.95        11\n",
      "          36       0.91      1.00      0.95        10\n",
      "          37       0.98      1.00      0.99        50\n",
      "          38       0.95      0.95      0.95        22\n",
      "          39       1.00      1.00      1.00        40\n",
      "          40       0.96      1.00      0.98        47\n",
      "          41       0.91      0.93      0.92        44\n",
      "          42       1.00      0.95      0.97        38\n",
      "          43       1.00      0.87      0.93        15\n",
      "          44       0.57      0.80      0.67         5\n",
      "          45       1.00      0.80      0.89         5\n",
      "          46       1.00      0.94      0.97        47\n",
      "          47       1.00      0.94      0.97        34\n",
      "\n",
      "    accuracy                           0.96      1385\n",
      "   macro avg       0.95      0.93      0.93      1385\n",
      "weighted avg       0.96      0.96      0.96      1385\n",
      "\n"
     ]
    }
   ],
   "source": [
    "print(classification_report(s, predicted_classes12))"
   ]
  },
  {
   "cell_type": "code",
   "execution_count": 414,
   "metadata": {},
   "outputs": [],
   "source": [
    "from sklearn.metrics import multilabel_confusion_matrix"
   ]
  },
  {
   "cell_type": "code",
   "execution_count": 417,
   "metadata": {},
   "outputs": [
    {
     "data": {
      "text/plain": [
       "array([[33,  0,  0, ...,  0,  0,  0],\n",
       "       [ 0, 29,  0, ...,  0,  0,  0],\n",
       "       [ 0,  0, 30, ...,  0,  0,  0],\n",
       "       ...,\n",
       "       [ 0,  0,  0, ...,  4,  0,  0],\n",
       "       [ 0,  0,  0, ...,  0, 44,  0],\n",
       "       [ 0,  0,  1, ...,  0,  0, 32]], dtype=int64)"
      ]
     },
     "execution_count": 417,
     "metadata": {},
     "output_type": "execute_result"
    }
   ],
   "source": [
    "#get multi-class confusion matrix\n",
    "cm1 = multilabel_confusion_matrix(s, predicted_classes12)\n",
    "cm"
   ]
  },
  {
   "cell_type": "code",
   "execution_count": 418,
   "metadata": {},
   "outputs": [
    {
     "data": {
      "text/plain": [
       "array([33, 29, 30, 42,  3, 37,  2, 44, 27, 47,  9, 47, 42, 42,  3, 14, 35,\n",
       "       40, 19, 32, 45, 47, 17, 29,  2, 49, 50,  4, 11,  3, 49, 21, 46,  2,\n",
       "       22, 10, 10, 50, 21, 40, 47, 41, 36, 13,  4,  4, 44, 32],\n",
       "      dtype=int64)"
      ]
     },
     "execution_count": 418,
     "metadata": {},
     "output_type": "execute_result"
    }
   ],
   "source": [
    "TruePositive = np.diag(cm)\n",
    "TruePositive"
   ]
  }
 ],
 "metadata": {
  "kernelspec": {
   "display_name": "Python 3",
   "language": "python",
   "name": "python3"
  },
  "language_info": {
   "codemirror_mode": {
    "name": "ipython",
    "version": 3
   },
   "file_extension": ".py",
   "mimetype": "text/x-python",
   "name": "python",
   "nbconvert_exporter": "python",
   "pygments_lexer": "ipython3",
   "version": "3.7.7"
  }
 },
 "nbformat": 4,
 "nbformat_minor": 4
}
